{
  "nbformat": 4,
  "nbformat_minor": 0,
  "metadata": {
    "colab": {
      "name": "Task Deliveries with raster",
      "provenance": [],
      "collapsed_sections": [],
      "include_colab_link": true
    },
    "kernelspec": {
      "name": "python3",
      "display_name": "Python 3"
    }
  },
  "cells": [
    {
      "cell_type": "markdown",
      "metadata": {
        "id": "view-in-github",
        "colab_type": "text"
      },
      "source": [
        "<a href=\"https://colab.research.google.com/github/edchan7-sama/sama-api-colabs/blob/main/Task_Deliveries_with_raster.ipynb\" target=\"_parent\"><img src=\"https://colab.research.google.com/assets/colab-badge.svg\" alt=\"Open In Colab\"/></a>"
      ]
    },
    {
      "cell_type": "markdown",
      "metadata": {
        "id": "93kaE9hsunrl"
      },
      "source": [
        "Compatible with Google Chrome only."
      ]
    },
    {
      "cell_type": "markdown",
      "metadata": {
        "id": "IsfSoUP10yiV"
      },
      "source": [
        "# Step 1 - Extract Latest Deliveries"
      ]
    },
    {
      "cell_type": "markdown",
      "source": [
        "## Input project settings and run"
      ],
      "metadata": {
        "id": "uwP50jK6Nz0D"
      }
    },
    {
      "cell_type": "code",
      "metadata": {
        "id": "7O4g3GqGySEl"
      },
      "source": [
        "#@title Step 1 - Set Project Settings { run: \"auto\", display-mode: \"form\" }\n",
        "project_id = \"\" #@param {type:\"string\"}\n",
        "client_access_key = \"\" #@param {type:\"string\"}\n",
        "delivery_datetime = \"2021-02-02\" #@param {type:\"date\"}\n",
        "delivery_datetime += \"T00:00:00Z\"\n",
        "optional_batch_ids = \"\" #@param {type:\"string\"}\n",
        "optional_client_batch_ids = \"\" #@param {type:\"string\"}\n",
        "\n",
        "\n",
        "import requests \n",
        "import json\n",
        "\n",
        "\n",
        "# Query URL\n",
        "url = f\"https://api.sama.com/api/v2/projects/{project_id}/tasks/delivered.json\"\n",
        "\n",
        "page = 1; page_size = 1000; tasks = []\n",
        "\n",
        "while True:\n",
        "  try:\n",
        "    querystring = {\"from\":delivery_datetime,\n",
        "                  \"page\":page,\n",
        "                  \"page_size\":page_size,\n",
        "                  \"access_key\":client_access_key,\n",
        "                  \"batch_id\":optional_batch_ids.replace(\" \", \"\"),\n",
        "                  \"client_batch_id\":optional_client_batch_ids.replace(\" \", \"\")}\n",
        "\n",
        "    headers = {\"Accept\": \"application/json\"}\n",
        "\n",
        "    # Make a GET request to the URL\n",
        "    response = requests.request(\"GET\", url, headers=headers, params=querystring)\n",
        "\n",
        "    # Parse `response.text` into JSON\n",
        "    payload = response.json()\n",
        "\n",
        "    if response.status_code == 200:\n",
        "      if payload.get(\"tasks\"):\n",
        "        tasks += payload.get(\"tasks\")\n",
        "        page += 1\n",
        "      elif page == 1:\n",
        "        raise Exception(f\"No task deliveries for project {project_id} from {delivery_datetime}\")\n",
        "      else:\n",
        "        raise Exception(f\"Task deliveries available for project {project_id} from {delivery_datetime}\")\n",
        "    else:\n",
        "      raise Exception(f\"Error: Invalid response code, {response.status_code} : '{response.reason}'\")\n",
        "  except ValueError as e:\n",
        "    print(\"optional_batch_ids input does not have valid integers\")\n",
        "    break\n",
        "  except Exception as e:\n",
        "    print(str(e))\n",
        "    break"
      ],
      "execution_count": null,
      "outputs": []
    },
    {
      "cell_type": "markdown",
      "metadata": {
        "id": "SoZhUY262Bxt"
      },
      "source": [
        "# Step 2 - Download files"
      ]
    },
    {
      "cell_type": "markdown",
      "metadata": {
        "id": "QL55sfPeLuJa"
      },
      "source": [
        "## Option 1 - Download latest deliveries results as JSON\n"
      ]
    },
    {
      "cell_type": "code",
      "metadata": {
        "id": "eeORUAcaqXJy"
      },
      "source": [
        "from google.colab import files\n",
        "\n",
        "if tasks:\n",
        "  with open(f\"{project_id}_{delivery_datetime}.json\", \"w\") as f:\n",
        "    json.dump(tasks, f, indent=4)\n",
        "  files.download(f\"{project_id}_{delivery_datetime}.json\")\n",
        "  print(f\"Downloaded: {project_id}_{delivery_datetime}.json\")\n"
      ],
      "execution_count": null,
      "outputs": []
    },
    {
      "cell_type": "markdown",
      "metadata": {
        "id": "gpcXkJzz2efA"
      },
      "source": [
        "## Option 2 - Download latest deliveries results as CSV"
      ]
    },
    {
      "cell_type": "code",
      "metadata": {
        "id": "Ek2iPLX-r8qb"
      },
      "source": [
        "!pip install flatten_json --quiet\n",
        "import pandas as pd\n",
        "from flatten_json import flatten\n",
        "\n",
        "# answer objects are nested JSONs, we want to keep them that way. \n",
        "\n",
        "try:\n",
        "  if not tasks:\n",
        "    raise Exception(f\"No task deliveries for project {project_id} from {delivery_datetime}\")\n",
        "\n",
        "  # create a DataFrame from the task objects, but ignore answers as they should be kept as a dict \n",
        "  dic_flattened = [flatten(d, root_keys_to_ignore={'answers', 'data'}) for d in tasks]\n",
        "  df = pd.DataFrame(dic_flattened)\n",
        "\n",
        "  # create a DataFrame of just the answer objects, but convert to json\n",
        "  answers = []\n",
        "  for d in tasks:\n",
        "      a = {**d.get('data'), **{ key: json.dumps(d.get('answers')[key]) for key in d.get('answers') } }\n",
        "      a['id'] = d.get('id')\n",
        "      answers.append(a)\n",
        "  df_answers = pd.DataFrame(answers)\n",
        "\n",
        "  csv_name = f\"{project_id}_{delivery_datetime}.csv\"\n",
        "  # merge DataFrames and write to csv\n",
        "  pd.merge(df, df_answers, on='id').to_csv(csv_name)\n",
        "  files.download(csv_name)\n",
        "\n",
        "except NameError:\n",
        "  print(\"Run Get Delivered Tasks First\")\n",
        "except Exception as e:\n",
        "  print(str(e))\n"
      ],
      "execution_count": null,
      "outputs": []
    },
    {
      "cell_type": "markdown",
      "source": [
        "## Option 3 - Download Raster Masks from latest deliveries"
      ],
      "metadata": {
        "id": "AF7CuEbipRvi"
      }
    },
    {
      "cell_type": "markdown",
      "source": [
        "### Step 1 - Run and get individual files"
      ],
      "metadata": {
        "id": "nAXMU7CxQ0jC"
      }
    },
    {
      "cell_type": "code",
      "source": [
        "!pip install boto3\n",
        "!mkdir masks\n",
        "\n",
        "import boto3\n",
        "import botocore\n",
        "from botocore.config import Config\n",
        "import json\n",
        "import sys\n",
        "from google.colab import files\n",
        "\n",
        "# Download s3 files and show progress\n",
        "def download(local_file_name, s3_bucket, s3_object_key):\n",
        "    meta_data = s3_client.head_object(Bucket=s3_bucket, Key=s3_object_key)\n",
        "    total_length = int(meta_data.get('ContentLength', 0))\n",
        "    downloaded = 0\n",
        "\n",
        "    def progress(chunk):\n",
        "        nonlocal downloaded\n",
        "        downloaded += chunk\n",
        "        done = int(50 * downloaded / total_length)\n",
        "        sys.stdout.write(\"\\r[%s%s]\" % ('=' * done, ' ' * (50-done)) )\n",
        "        sys.stdout.flush()\n",
        "\n",
        "    print(f'\\nDownloading {s3_object_key}')\n",
        "    with open('masks/' + local_file_name, 'wb') as f:\n",
        "        s3_client.download_fileobj(s3_bucket, s3_object_key, f, Callback=progress)\n",
        "\n",
        "# Get AWS credentials to download masks\n",
        "import requests\n",
        "\n",
        "try:\n",
        "  url = f\"https://api.sama.com/v2/projects/{project_id}/credentials.json?access_key={client_access_key}\"\n",
        "\n",
        "  headers = {\"Accept\": \"application/json\"}\n",
        "\n",
        "  response = requests.get(url, headers=headers)\n",
        "\n",
        "  if response.status_code == 200:\n",
        "    payload = response.json()\n",
        "  else:\n",
        "    raise Exception(f\"Error: Invalid response code, {response.status_code} : '{response.reason}'\")\n",
        "except Exception as e:\n",
        "    print(str(e))\n",
        "    sys.exit()\n",
        "\n",
        "# set up s3 boto with AWS credials\n",
        "s3_client = boto3.client(\n",
        "    's3',\n",
        "    aws_access_key_id=payload.get('access_key_id'),\n",
        "    aws_secret_access_key=payload.get('secret_access_key'),\n",
        "    aws_session_token=payload.get('session_token')\n",
        ")\n",
        "\n",
        "json_array = tasks\n",
        "for json_dict in json_array:\n",
        "  for _output in json_dict['answers']:\n",
        "    try:\n",
        "      mask_url = json_dict.get('answers').get(_output).get('layers').get('raster_coding').get('mask_url')\n",
        "      bucket = 'samahub3'\n",
        "      s3_filename = mask_url.split(\"samahub3.s3.amazonaws.com/\",1)[1]\n",
        "      local_filename = mask_url.split('/')[-1]\n",
        "      download(local_filename, bucket, s3_filename)\n",
        "    except Exception as e:\n",
        "      # answer object does not have a mask\n",
        "      continue"
      ],
      "metadata": {
        "id": "Gq2Cn943pZbB"
      },
      "execution_count": null,
      "outputs": []
    },
    {
      "cell_type": "markdown",
      "source": [
        "### Step 2 - Zip all files and download"
      ],
      "metadata": {
        "id": "cqM5owruMNxf"
      }
    },
    {
      "cell_type": "code",
      "source": [
        "!zip -r /content/masks.zip /content/masks\n",
        "files.download(f\"masks.zip\")"
      ],
      "metadata": {
        "id": "GF0YX7rIGu08"
      },
      "execution_count": null,
      "outputs": []
    }
  ]
}