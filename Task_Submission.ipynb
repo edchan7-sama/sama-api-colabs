{
  "nbformat": 4,
  "nbformat_minor": 0,
  "metadata": {
    "colab": {
      "name": "Task Submission",
      "provenance": [],
      "collapsed_sections": [],
      "toc_visible": true,
      "include_colab_link": true
    },
    "kernelspec": {
      "name": "python3",
      "display_name": "Python 3"
    }
  },
  "cells": [
    {
      "cell_type": "markdown",
      "metadata": {
        "id": "view-in-github",
        "colab_type": "text"
      },
      "source": [
        "<a href=\"https://colab.research.google.com/github/edchan7-sama/sama-api-colabs/blob/main/Task_Submission.ipynb\" target=\"_parent\"><img src=\"https://colab.research.google.com/assets/colab-badge.svg\" alt=\"Open In Colab\"/></a>"
      ]
    },
    {
      "cell_type": "markdown",
      "metadata": {
        "id": "93kaE9hsunrl"
      },
      "source": [
        "Compatible with Google Chrome only."
      ]
    },
    {
      "cell_type": "markdown",
      "metadata": {
        "id": "IsfSoUP10yiV"
      },
      "source": [
        "# Project Settings"
      ]
    },
    {
      "cell_type": "code",
      "metadata": {
        "id": "7O4g3GqGySEl"
      },
      "source": [
        "#@title Step 1 - Set Project Settings { run: \"auto\", display-mode: \"form\" }\n",
        "project_id = \"\" #@param {type:\"string\"}\n",
        "client_access_key = \"\" #@param {type:\"string\"}\n",
        "task_ids = \"\" #@param {type:\"string\"}"
      ],
      "execution_count": null,
      "outputs": []
    },
    {
      "cell_type": "markdown",
      "metadata": {
        "id": "SoZhUY262Bxt"
      },
      "source": [
        "\n",
        "# Submit Tasks"
      ]
    },
    {
      "cell_type": "markdown",
      "metadata": {
        "id": "QL55sfPeLuJa"
      },
      "source": [
        "### Step 2 - Run to submit tasks\n"
      ]
    },
    {
      "cell_type": "code",
      "metadata": {
        "id": "eeORUAcaqXJy",
        "colab": {
          "base_uri": "https://localhost:8080/"
        },
        "outputId": "f998b183-f4c7-477a-f649-aa5d75a1d59b"
      },
      "source": [
        "import requests \n",
        "from google.colab import files\n",
        "import json\n",
        "import time\n",
        "\n",
        "task_ids_arr = task_ids.split(\" \")\n",
        "print(f\"Start - Attempting to submit {len(task_ids_arr)} tasks: {task_ids_arr}\")\n",
        "\n",
        "tasks_submitted_successfully = []\n",
        "tasks_submitted_unsuccessfully = []\n",
        "for t_task_id in task_ids_arr:\n",
        "  try:\n",
        "    # Query URL\n",
        "    url = f\"https://api.sama.com/v2/projects/{project_id}/tasks/{t_task_id}/submit.json?access_key={client_access_key}\"\n",
        "\n",
        "    querystring = { \n",
        "      \"access_key\": client_access_key\n",
        "    }\n",
        "\n",
        "    # \"submit_latest_answers\": True,    \n",
        "    payload = {\n",
        "      \"submit_latest_answers\": True,\n",
        "      \"answers\": {}\n",
        "    }\n",
        "    \n",
        "    headers = {\n",
        "      \"Accept\": \"application/json\",\n",
        "      \"Content-Type\": \"application/json\"\n",
        "    }\n",
        "\n",
        "    print(f\"Submitting task {t_task_id}\")\n",
        "    response = requests.put(url, json=payload, headers=headers)\n",
        "\n",
        "    # Parse `response.text` into JSON\n",
        "    payload = response.json()\n",
        "\n",
        "    if response.status_code == 200:\n",
        "      tasks_submitted_successfully.append(t_task_id)\n",
        "    else:\n",
        "      tasks_submitted_unsuccessfully.append(t_task_id)\n",
        "      raise Exception(f\"Error: Invalid response code for task, '{t_task_id}', {response.status_code} : '{response.reason}', '{response.content}\")\n",
        "\n",
        "    # Sleep for a second to not overload API\n",
        "    time.sleep(0.5)\n",
        "  except Exception as e:\n",
        "    print(str(e))\n",
        "\n",
        "\n",
        "print(f\"{len(tasks_submitted_successfully)} tasks submitted successfully: {tasks_submitted_successfully}\")\n",
        "print(f\"{len(tasks_submitted_unsuccessfully)} tasks submitted unsuccessfully: {tasks_submitted_unsuccessfully}\")\n",
        "\n"
      ],
      "execution_count": null,
      "outputs": [
        {
          "output_type": "stream",
          "name": "stdout",
          "text": [
            "Attempting to submit 2 tasks: ['62de68a837ef2048e725d053', '62de6e887147424ec07c317b']\n",
            "2 tasks submitted successfully: ['62de68a837ef2048e725d053', '62de6e887147424ec07c317b']\n",
            "0 tasks submitted unsuccessfully: []\n"
          ]
        }
      ]
    },
    {
      "cell_type": "code",
      "source": [
        ""
      ],
      "metadata": {
        "id": "EtiVB36UhRWJ"
      },
      "execution_count": null,
      "outputs": []
    }
  ]
}