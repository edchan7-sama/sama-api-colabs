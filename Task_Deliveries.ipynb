{
  "nbformat": 4,
  "nbformat_minor": 0,
  "metadata": {
    "colab": {
      "name": "Task Deliveries",
      "provenance": [],
      "collapsed_sections": [],
      "toc_visible": true,
      "include_colab_link": true
    },
    "kernelspec": {
      "name": "python3",
      "display_name": "Python 3"
    }
  },
  "cells": [
    {
      "cell_type": "markdown",
      "metadata": {
        "id": "view-in-github",
        "colab_type": "text"
      },
      "source": [
        "<a href=\"https://colab.research.google.com/github/edchan7-sama/sama-api-colabs/blob/main/Task_Deliveries.ipynb\" target=\"_parent\"><img src=\"https://colab.research.google.com/assets/colab-badge.svg\" alt=\"Open In Colab\"/></a>"
      ]
    },
    {
      "cell_type": "markdown",
      "metadata": {
        "id": "93kaE9hsunrl"
      },
      "source": [
        "Compatible with Google Chrome only."
      ]
    },
    {
      "cell_type": "markdown",
      "metadata": {
        "id": "IsfSoUP10yiV"
      },
      "source": [
        "# Project Settings"
      ]
    },
    {
      "cell_type": "code",
      "metadata": {
        "id": "7O4g3GqGySEl"
      },
      "source": [
        "#@title Step 1 - Set Project Settings { run: \"auto\", display-mode: \"form\" }\n",
        "project_id = \"\" #@param {type:\"string\"}\n",
        "client_access_key = \"\" #@param {type:\"string\"}\n",
        "delivery_datetime = \"2021-02-02\" #@param {type:\"date\"}\n",
        "delivery_datetime += \"T00:00:00Z\"\n",
        "optional_batch_ids = \"\" #@param {type:\"string\"}\n",
        "optional_client_batch_ids = \"\" #@param {type:\"string\"}"
      ],
      "execution_count": 20,
      "outputs": []
    },
    {
      "cell_type": "markdown",
      "metadata": {
        "id": "SoZhUY262Bxt"
      },
      "source": [
        "# Get Deliveries "
      ]
    },
    {
      "cell_type": "markdown",
      "metadata": {
        "id": "QL55sfPeLuJa"
      },
      "source": [
        "### Step 2 - Get Deliveries as JSON\n"
      ]
    },
    {
      "cell_type": "code",
      "metadata": {
        "id": "eeORUAcaqXJy",
        "colab": {
          "base_uri": "https://localhost:8080/"
        },
        "outputId": "a9d88a15-07df-47cb-9d64-1bca278b8162"
      },
      "source": [
        "import requests \n",
        "from google.colab import files\n",
        "import json\n",
        "\n",
        "\n",
        "# Query URL\n",
        "url = f\"https://api.sama.com/api/v2/projects/{project_id}/tasks/delivered.json\"\n",
        "\n",
        "page = 1; page_size = 1000; tasks = []\n",
        "\n",
        "while True:\n",
        "  try:\n",
        "    querystring = {\"from\":delivery_datetime,\n",
        "                  \"page\":page,\n",
        "                  \"page_size\":page_size,\n",
        "                  \"access_key\":client_access_key,\n",
        "                  \"batch_id\":optional_batch_ids.replace(\" \", \"\"),\n",
        "                  \"client_batch_id\":optional_client_batch_ids.replace(\" \", \"\")}\n",
        "\n",
        "    headers = {\"Accept\": \"application/json\"}\n",
        "\n",
        "    # Make a GET request to the URL\n",
        "    response = requests.request(\"GET\", url, headers=headers, params=querystring)\n",
        "\n",
        "    # Parse `response.text` into JSON\n",
        "    payload = response.json()\n",
        "\n",
        "    if response.status_code == 200:\n",
        "      if payload.get(\"tasks\"):\n",
        "        tasks += payload.get(\"tasks\")\n",
        "        page += 1\n",
        "      elif page == 1:\n",
        "        raise Exception(f\"No task deliveries for project {project_id} from {delivery_datetime}\")\n",
        "      else:\n",
        "        raise Exception(f\"Task deliveries available for project {project_id} from {delivery_datetime}\")\n",
        "    else:\n",
        "      raise Exception(f\"Error: Invalid response code, {response.status_code} : '{response.reason}'\")\n",
        "  except ValueError as e:\n",
        "    print(\"optional_batch_ids input does not have valid integers\")\n",
        "    break\n",
        "  except Exception as e:\n",
        "    print(str(e))\n",
        "    break\n",
        "\n",
        "if tasks:\n",
        "  with open(f\"{project_id}_{delivery_datetime}.json\", \"w\") as f:\n",
        "    json.dump(tasks, f, indent=4)\n",
        "  files.download(f\"{project_id}_{delivery_datetime}.json\")\n",
        "  print(f\"Downloaded: {project_id}_{delivery_datetime}.json\")\n"
      ],
      "execution_count": 21,
      "outputs": [
        {
          "output_type": "stream",
          "text": [
            "Error: Invalid response code, 404 : 'Not Found'\n"
          ],
          "name": "stdout"
        }
      ]
    },
    {
      "cell_type": "markdown",
      "metadata": {
        "id": "gpcXkJzz2efA"
      },
      "source": [
        "### Step 3 - Optional - Save as CSV"
      ]
    },
    {
      "cell_type": "code",
      "metadata": {
        "id": "Ek2iPLX-r8qb",
        "colab": {
          "base_uri": "https://localhost:8080/",
          "height": 17
        },
        "outputId": "633256ea-41fe-40c9-b2b6-e11b0c166ee8"
      },
      "source": [
        "!pip install flatten_json --quiet\n",
        "import pandas as pd\n",
        "from flatten_json import flatten\n",
        "\n",
        "# answer objects are nested JSONs, we want to keep them that way. \n",
        "\n",
        "try:\n",
        "  if not tasks:\n",
        "    raise Exception(f\"No task deliveries for project {project_id} from {delivery_datetime}\")\n",
        "\n",
        "  # create a DataFrame from the task objects, but ignore answers as they should be kept as a dict \n",
        "  dic_flattened = [flatten(d, root_keys_to_ignore={'answers', 'data'}) for d in tasks]\n",
        "  df = pd.DataFrame(dic_flattened)\n",
        "\n",
        "  # create a DataFrame of just the answer objects, but convert to json\n",
        "  answers = []\n",
        "  for d in tasks:\n",
        "      a = {**d.get('data'), **{ key: json.dumps(d.get('answers')[key]) for key in d.get('answers') } }\n",
        "      a['id'] = d.get('id')\n",
        "      answers.append(a)\n",
        "  df_answers = pd.DataFrame(answers)\n",
        "\n",
        "  csv_name = f\"{project_id}_{delivery_datetime}.csv\"\n",
        "  # merge DataFrames and write to csv\n",
        "  pd.merge(df, df_answers, on='id').to_csv(csv_name)\n",
        "  files.download(csv_name)\n",
        "\n",
        "except NameError:\n",
        "  print(\"Run Get Delivered Tasks First\")\n",
        "except Exception as e:\n",
        "  print(str(e))\n"
      ],
      "execution_count": 9,
      "outputs": [
        {
          "output_type": "display_data",
          "data": {
            "application/javascript": [
              "\n",
              "    async function download(id, filename, size) {\n",
              "      if (!google.colab.kernel.accessAllowed) {\n",
              "        return;\n",
              "      }\n",
              "      const div = document.createElement('div');\n",
              "      const label = document.createElement('label');\n",
              "      label.textContent = `Downloading \"${filename}\": `;\n",
              "      div.appendChild(label);\n",
              "      const progress = document.createElement('progress');\n",
              "      progress.max = size;\n",
              "      div.appendChild(progress);\n",
              "      document.body.appendChild(div);\n",
              "\n",
              "      const buffers = [];\n",
              "      let downloaded = 0;\n",
              "\n",
              "      const channel = await google.colab.kernel.comms.open(id);\n",
              "      // Send a message to notify the kernel that we're ready.\n",
              "      channel.send({})\n",
              "\n",
              "      for await (const message of channel.messages) {\n",
              "        // Send a message to notify the kernel that we're ready.\n",
              "        channel.send({})\n",
              "        if (message.buffers) {\n",
              "          for (const buffer of message.buffers) {\n",
              "            buffers.push(buffer);\n",
              "            downloaded += buffer.byteLength;\n",
              "            progress.value = downloaded;\n",
              "          }\n",
              "        }\n",
              "      }\n",
              "      const blob = new Blob(buffers, {type: 'application/binary'});\n",
              "      const a = document.createElement('a');\n",
              "      a.href = window.URL.createObjectURL(blob);\n",
              "      a.download = filename;\n",
              "      div.appendChild(a);\n",
              "      a.click();\n",
              "      div.remove();\n",
              "    }\n",
              "  "
            ],
            "text/plain": [
              "<IPython.core.display.Javascript object>"
            ]
          },
          "metadata": {
            "tags": []
          }
        },
        {
          "output_type": "display_data",
          "data": {
            "application/javascript": [
              "download(\"download_e7051987-7180-4318-ac3e-3d65afd328ef\", \"7536_2021-02-02T00:00:00Z.csv\", 8210)"
            ],
            "text/plain": [
              "<IPython.core.display.Javascript object>"
            ]
          },
          "metadata": {
            "tags": []
          }
        }
      ]
    }
  ]
}