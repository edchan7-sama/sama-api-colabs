{
  "nbformat": 4,
  "nbformat_minor": 0,
  "metadata": {
    "colab": {
      "name": "Task Deliveries",
      "provenance": [],
      "collapsed_sections": [],
      "include_colab_link": true
    },
    "kernelspec": {
      "name": "python3",
      "display_name": "Python 3"
    }
  },
  "cells": [
    {
      "cell_type": "markdown",
      "metadata": {
        "id": "view-in-github",
        "colab_type": "text"
      },
      "source": [
        "<a href=\"https://colab.research.google.com/github/edchan7-sama/sama-api-colabs/blob/main/Task_Deliveries.ipynb\" target=\"_parent\"><img src=\"https://colab.research.google.com/assets/colab-badge.svg\" alt=\"Open In Colab\"/></a>"
      ]
    },
    {
      "cell_type": "markdown",
      "metadata": {
        "id": "93kaE9hsunrl"
      },
      "source": [
        "Compatible with Google Chrome only."
      ]
    },
    {
      "cell_type": "markdown",
      "metadata": {
        "id": "IsfSoUP10yiV"
      },
      "source": [
        "# Step 1 - Extract Latest Deliveries"
      ]
    },
    {
      "cell_type": "markdown",
      "source": [
        "## Input project settings and run"
      ],
      "metadata": {
        "id": "uwP50jK6Nz0D"
      }
    },
    {
      "cell_type": "code",
      "metadata": {
        "id": "7O4g3GqGySEl",
        "colab": {
          "base_uri": "https://localhost:8080/"
        },
        "outputId": "e5a6c904-4db6-42e3-d0ca-b9f12a6f3df9"
      },
      "source": [
        "#@title Step 1 - Set Project Settings { run: \"auto\", display-mode: \"form\" }\n",
        "project_id = \"\" #@param {type:\"string\"}\n",
        "client_access_key = \"\" #@param {type:\"string\"}\n",
        "delivery_datetime = \"2021-02-02\" #@param {type:\"date\"}\n",
        "delivery_datetime += \"T00:00:00Z\"\n",
        "optional_batch_ids = \"\" #@param {type:\"string\"}\n",
        "optional_client_batch_ids = \"\" #@param {type:\"string\"}\n",
        "\n",
        "\n",
        "import requests \n",
        "import json\n",
        "\n",
        "\n",
        "# Query URL\n",
        "url = f\"https://api.sama.com/api/v2/projects/{project_id}/tasks/delivered.json\"\n",
        "\n",
        "page = 1; page_size = 1000; tasks = []\n",
        "\n",
        "while True:\n",
        "  try:\n",
        "    querystring = {\"from\":delivery_datetime,\n",
        "                  \"page\":page,\n",
        "                  \"page_size\":page_size,\n",
        "                  \"access_key\":client_access_key,\n",
        "                  \"batch_id\":optional_batch_ids.replace(\" \", \"\"),\n",
        "                  \"client_batch_id\":optional_client_batch_ids.replace(\" \", \"\")}\n",
        "\n",
        "    headers = {\"Accept\": \"application/json\"}\n",
        "\n",
        "    # Make a GET request to the URL\n",
        "    response = requests.request(\"GET\", url, headers=headers, params=querystring)\n",
        "\n",
        "    # Parse `response.text` into JSON\n",
        "    payload = response.json()\n",
        "\n",
        "    if response.status_code == 200:\n",
        "      if payload.get(\"tasks\"):\n",
        "        tasks += payload.get(\"tasks\")\n",
        "        page += 1\n",
        "      elif page == 1:\n",
        "        raise Exception(f\"No task deliveries for project {project_id} from {delivery_datetime}\")\n",
        "      else:\n",
        "        raise Exception(f\"Task deliveries available for project {project_id} from {delivery_datetime}\")\n",
        "    else:\n",
        "      raise Exception(f\"Error: Invalid response code, {response.status_code} : '{response.reason}'\")\n",
        "  except ValueError as e:\n",
        "    print(\"optional_batch_ids input does not have valid integers\")\n",
        "    break\n",
        "  except Exception as e:\n",
        "    print(str(e))\n",
        "    break"
      ],
      "execution_count": null,
      "outputs": [
        {
          "output_type": "stream",
          "name": "stderr",
          "text": [
            "/usr/local/lib/python3.7/dist-packages/requests/__init__.py:91: RequestsDependencyWarning: urllib3 (1.26.10) or chardet (3.0.4) doesn't match a supported version!\n",
            "  RequestsDependencyWarning)\n"
          ]
        },
        {
          "output_type": "stream",
          "name": "stdout",
          "text": [
            "Task deliveries available for project 7536 from 2021-02-02T00:00:00Z\n"
          ]
        }
      ]
    },
    {
      "cell_type": "markdown",
      "metadata": {
        "id": "SoZhUY262Bxt"
      },
      "source": [
        "# Step 2 - Download files"
      ]
    },
    {
      "cell_type": "markdown",
      "metadata": {
        "id": "QL55sfPeLuJa"
      },
      "source": [
        "## Option 1 - Download latest deliveries results as JSON\n"
      ]
    },
    {
      "cell_type": "code",
      "metadata": {
        "id": "eeORUAcaqXJy",
        "colab": {
          "base_uri": "https://localhost:8080/",
          "height": 35
        },
        "outputId": "9522995a-1a27-46ec-daa6-30dd687c36bc"
      },
      "source": [
        "from google.colab import files\n",
        "\n",
        "if tasks:\n",
        "  with open(f\"{project_id}_{delivery_datetime}.json\", \"w\") as f:\n",
        "    json.dump(tasks, f, indent=4)\n",
        "  files.download(f\"{project_id}_{delivery_datetime}.json\")\n",
        "  print(f\"Downloaded: {project_id}_{delivery_datetime}.json\")\n"
      ],
      "execution_count": null,
      "outputs": [
        {
          "output_type": "display_data",
          "data": {
            "text/plain": [
              "<IPython.core.display.Javascript object>"
            ],
            "application/javascript": [
              "\n",
              "    async function download(id, filename, size) {\n",
              "      if (!google.colab.kernel.accessAllowed) {\n",
              "        return;\n",
              "      }\n",
              "      const div = document.createElement('div');\n",
              "      const label = document.createElement('label');\n",
              "      label.textContent = `Downloading \"${filename}\": `;\n",
              "      div.appendChild(label);\n",
              "      const progress = document.createElement('progress');\n",
              "      progress.max = size;\n",
              "      div.appendChild(progress);\n",
              "      document.body.appendChild(div);\n",
              "\n",
              "      const buffers = [];\n",
              "      let downloaded = 0;\n",
              "\n",
              "      const channel = await google.colab.kernel.comms.open(id);\n",
              "      // Send a message to notify the kernel that we're ready.\n",
              "      channel.send({})\n",
              "\n",
              "      for await (const message of channel.messages) {\n",
              "        // Send a message to notify the kernel that we're ready.\n",
              "        channel.send({})\n",
              "        if (message.buffers) {\n",
              "          for (const buffer of message.buffers) {\n",
              "            buffers.push(buffer);\n",
              "            downloaded += buffer.byteLength;\n",
              "            progress.value = downloaded;\n",
              "          }\n",
              "        }\n",
              "      }\n",
              "      const blob = new Blob(buffers, {type: 'application/binary'});\n",
              "      const a = document.createElement('a');\n",
              "      a.href = window.URL.createObjectURL(blob);\n",
              "      a.download = filename;\n",
              "      div.appendChild(a);\n",
              "      a.click();\n",
              "      div.remove();\n",
              "    }\n",
              "  "
            ]
          },
          "metadata": {}
        },
        {
          "output_type": "display_data",
          "data": {
            "text/plain": [
              "<IPython.core.display.Javascript object>"
            ],
            "application/javascript": [
              "download(\"download_8cfa701e-38de-4812-81d2-54a80ab7cc93\", \"7536_2021-02-02T00:00:00Z.json\", 65442)"
            ]
          },
          "metadata": {}
        },
        {
          "output_type": "stream",
          "name": "stdout",
          "text": [
            "Downloaded: 7536_2021-02-02T00:00:00Z.json\n"
          ]
        }
      ]
    },
    {
      "cell_type": "markdown",
      "metadata": {
        "id": "gpcXkJzz2efA"
      },
      "source": [
        "## Option 2 - Download latest deliveries results as CSV"
      ]
    },
    {
      "cell_type": "code",
      "metadata": {
        "id": "Ek2iPLX-r8qb",
        "colab": {
          "base_uri": "https://localhost:8080/",
          "height": 35
        },
        "outputId": "d4dd23fd-2983-44ea-86c9-2034f44bb1b8"
      },
      "source": [
        "!pip install flatten_json --quiet\n",
        "import pandas as pd\n",
        "from flatten_json import flatten\n",
        "\n",
        "# answer objects are nested JSONs, we want to keep them that way. \n",
        "\n",
        "try:\n",
        "  if not tasks:\n",
        "    raise Exception(f\"No task deliveries for project {project_id} from {delivery_datetime}\")\n",
        "\n",
        "  # create a DataFrame from the task objects, but ignore answers as they should be kept as a dict \n",
        "  dic_flattened = [flatten(d, root_keys_to_ignore={'answers', 'data'}) for d in tasks]\n",
        "  df = pd.DataFrame(dic_flattened)\n",
        "\n",
        "  # create a DataFrame of just the answer objects, but convert to json\n",
        "  answers = []\n",
        "  for d in tasks:\n",
        "      a = {**d.get('data'), **{ key: json.dumps(d.get('answers')[key]) for key in d.get('answers') } }\n",
        "      a['id'] = d.get('id')\n",
        "      answers.append(a)\n",
        "  df_answers = pd.DataFrame(answers)\n",
        "\n",
        "  csv_name = f\"{project_id}_{delivery_datetime}.csv\"\n",
        "  # merge DataFrames and write to csv\n",
        "  pd.merge(df, df_answers, on='id').to_csv(csv_name)\n",
        "  files.download(csv_name)\n",
        "\n",
        "except NameError:\n",
        "  print(\"Run Get Delivered Tasks First\")\n",
        "except Exception as e:\n",
        "  print(str(e))\n"
      ],
      "execution_count": null,
      "outputs": [
        {
          "output_type": "stream",
          "name": "stdout",
          "text": [
            "  Building wheel for flatten-json (setup.py) ... \u001b[?25l\u001b[?25hdone\n"
          ]
        },
        {
          "output_type": "display_data",
          "data": {
            "text/plain": [
              "<IPython.core.display.Javascript object>"
            ],
            "application/javascript": [
              "\n",
              "    async function download(id, filename, size) {\n",
              "      if (!google.colab.kernel.accessAllowed) {\n",
              "        return;\n",
              "      }\n",
              "      const div = document.createElement('div');\n",
              "      const label = document.createElement('label');\n",
              "      label.textContent = `Downloading \"${filename}\": `;\n",
              "      div.appendChild(label);\n",
              "      const progress = document.createElement('progress');\n",
              "      progress.max = size;\n",
              "      div.appendChild(progress);\n",
              "      document.body.appendChild(div);\n",
              "\n",
              "      const buffers = [];\n",
              "      let downloaded = 0;\n",
              "\n",
              "      const channel = await google.colab.kernel.comms.open(id);\n",
              "      // Send a message to notify the kernel that we're ready.\n",
              "      channel.send({})\n",
              "\n",
              "      for await (const message of channel.messages) {\n",
              "        // Send a message to notify the kernel that we're ready.\n",
              "        channel.send({})\n",
              "        if (message.buffers) {\n",
              "          for (const buffer of message.buffers) {\n",
              "            buffers.push(buffer);\n",
              "            downloaded += buffer.byteLength;\n",
              "            progress.value = downloaded;\n",
              "          }\n",
              "        }\n",
              "      }\n",
              "      const blob = new Blob(buffers, {type: 'application/binary'});\n",
              "      const a = document.createElement('a');\n",
              "      a.href = window.URL.createObjectURL(blob);\n",
              "      a.download = filename;\n",
              "      div.appendChild(a);\n",
              "      a.click();\n",
              "      div.remove();\n",
              "    }\n",
              "  "
            ]
          },
          "metadata": {}
        },
        {
          "output_type": "display_data",
          "data": {
            "text/plain": [
              "<IPython.core.display.Javascript object>"
            ],
            "application/javascript": [
              "download(\"download_4fb1e13a-f876-4da4-9951-8058f94b0da2\", \"7536_2021-02-02T00:00:00Z.csv\", 30606)"
            ]
          },
          "metadata": {}
        }
      ]
    },
    {
      "cell_type": "markdown",
      "source": [
        "## Option 3 - Download Raster Masks from latest deliveries"
      ],
      "metadata": {
        "id": "AF7CuEbipRvi"
      }
    },
    {
      "cell_type": "markdown",
      "source": [
        "### Step 1 - Run and get individual files"
      ],
      "metadata": {
        "id": "nAXMU7CxQ0jC"
      }
    },
    {
      "cell_type": "code",
      "source": [
        "!pip install boto3\n",
        "!mkdir masks\n",
        "\n",
        "import boto3\n",
        "import botocore\n",
        "from botocore.config import Config\n",
        "import json\n",
        "import sys\n",
        "from google.colab import files\n",
        "\n",
        "# Download s3 files and show progress\n",
        "def download(local_file_name, s3_bucket, s3_object_key):\n",
        "    meta_data = s3_client.head_object(Bucket=s3_bucket, Key=s3_object_key)\n",
        "    total_length = int(meta_data.get('ContentLength', 0))\n",
        "    downloaded = 0\n",
        "\n",
        "    def progress(chunk):\n",
        "        nonlocal downloaded\n",
        "        downloaded += chunk\n",
        "        done = int(50 * downloaded / total_length)\n",
        "        sys.stdout.write(\"\\r[%s%s]\" % ('=' * done, ' ' * (50-done)) )\n",
        "        sys.stdout.flush()\n",
        "\n",
        "    print(f'\\nDownloading {s3_object_key}')\n",
        "    with open('masks/' + local_file_name, 'wb') as f:\n",
        "        s3_client.download_fileobj(s3_bucket, s3_object_key, f, Callback=progress)\n",
        "\n",
        "# Get AWS credentials to download masks\n",
        "import requests\n",
        "\n",
        "try:\n",
        "  url = f\"https://api.sama.com/v2/projects/{project_id}/credentials.json?access_key={client_access_key}\"\n",
        "\n",
        "  headers = {\"Accept\": \"application/json\"}\n",
        "\n",
        "  response = requests.get(url, headers=headers)\n",
        "\n",
        "  if response.status_code == 200:\n",
        "    payload = response.json()\n",
        "  else:\n",
        "    raise Exception(f\"Error: Invalid response code, {response.status_code} : '{response.reason}'\")\n",
        "except Exception as e:\n",
        "    print(str(e))\n",
        "    sys.exit()\n",
        "\n",
        "# set up s3 boto with AWS credials\n",
        "s3_client = boto3.client(\n",
        "    's3',\n",
        "    aws_access_key_id=payload.get('access_key_id'),\n",
        "    aws_secret_access_key=payload.get('secret_access_key'),\n",
        "    aws_session_token=payload.get('session_token')\n",
        ")\n",
        "\n",
        "json_array = tasks\n",
        "for json_dict in json_array:\n",
        "  for _output in json_dict['answers']:\n",
        "    try:\n",
        "      mask_url = json_dict.get('answers').get(_output).get('layers').get('raster_coding').get('mask_url')\n",
        "      bucket = 'samahub3'\n",
        "      s3_filename = mask_url.split(\"samahub3.s3.amazonaws.com/\",1)[1]\n",
        "      local_filename = mask_url.split('/')[-1]\n",
        "      download(local_filename, bucket, s3_filename)\n",
        "    except Exception as e:\n",
        "      # answer object does not have a mask\n",
        "      continue"
      ],
      "metadata": {
        "id": "Gq2Cn943pZbB",
        "outputId": "ca65d932-c95b-4490-ed17-c5aebe45ce45",
        "colab": {
          "base_uri": "https://localhost:8080/"
        }
      },
      "execution_count": null,
      "outputs": [
        {
          "output_type": "stream",
          "name": "stdout",
          "text": [
            "Looking in indexes: https://pypi.org/simple, https://us-python.pkg.dev/colab-wheels/public/simple/\n",
            "Requirement already satisfied: boto3 in /usr/local/lib/python3.7/dist-packages (1.24.35)\n",
            "Requirement already satisfied: jmespath<2.0.0,>=0.7.1 in /usr/local/lib/python3.7/dist-packages (from boto3) (1.0.1)\n",
            "Requirement already satisfied: s3transfer<0.7.0,>=0.6.0 in /usr/local/lib/python3.7/dist-packages (from boto3) (0.6.0)\n",
            "Requirement already satisfied: botocore<1.28.0,>=1.27.35 in /usr/local/lib/python3.7/dist-packages (from boto3) (1.27.35)\n",
            "Requirement already satisfied: urllib3<1.27,>=1.25.4 in /usr/local/lib/python3.7/dist-packages (from botocore<1.28.0,>=1.27.35->boto3) (1.26.10)\n",
            "Requirement already satisfied: python-dateutil<3.0.0,>=2.1 in /usr/local/lib/python3.7/dist-packages (from botocore<1.28.0,>=1.27.35->boto3) (2.8.2)\n",
            "Requirement already satisfied: six>=1.5 in /usr/local/lib/python3.7/dist-packages (from python-dateutil<3.0.0,>=2.1->botocore<1.28.0,>=1.27.35->boto3) (1.15.0)\n",
            "mkdir: cannot create directory ‘masks’: File exists\n",
            "\n",
            "Downloading clients/23/external/projects/7536/tasks/62d9aa74190bb30c581072e6/outputs/myimage/816ecbed-bc3b-4fbe-9665-ca236e04649a.png\n",
            "[==================================================]\n",
            "Downloading clients/23/external/projects/7536/tasks/62d9ac94cbf30d08efccf2ba/outputs/myimage/a317289a-5f0a-47cf-8539-508eba917595.png\n",
            "[==================================================]"
          ]
        }
      ]
    },
    {
      "cell_type": "markdown",
      "source": [
        "### Step 2 - Zip all files and download"
      ],
      "metadata": {
        "id": "cqM5owruMNxf"
      }
    },
    {
      "cell_type": "code",
      "source": [
        "!zip -r /content/masks.zip /content/masks\n",
        "files.download(f\"masks.zip\")"
      ],
      "metadata": {
        "colab": {
          "base_uri": "https://localhost:8080/",
          "height": 70
        },
        "id": "GF0YX7rIGu08",
        "outputId": "1bbcb32f-5707-44af-a524-c49c7c35272e"
      },
      "execution_count": null,
      "outputs": [
        {
          "output_type": "stream",
          "name": "stdout",
          "text": [
            "updating: content/masks/ (stored 0%)\n",
            "updating: content/masks/a317289a-5f0a-47cf-8539-508eba917595.png (deflated 31%)\n",
            "updating: content/masks/816ecbed-bc3b-4fbe-9665-ca236e04649a.png (stored 0%)\n"
          ]
        },
        {
          "output_type": "display_data",
          "data": {
            "text/plain": [
              "<IPython.core.display.Javascript object>"
            ],
            "application/javascript": [
              "\n",
              "    async function download(id, filename, size) {\n",
              "      if (!google.colab.kernel.accessAllowed) {\n",
              "        return;\n",
              "      }\n",
              "      const div = document.createElement('div');\n",
              "      const label = document.createElement('label');\n",
              "      label.textContent = `Downloading \"${filename}\": `;\n",
              "      div.appendChild(label);\n",
              "      const progress = document.createElement('progress');\n",
              "      progress.max = size;\n",
              "      div.appendChild(progress);\n",
              "      document.body.appendChild(div);\n",
              "\n",
              "      const buffers = [];\n",
              "      let downloaded = 0;\n",
              "\n",
              "      const channel = await google.colab.kernel.comms.open(id);\n",
              "      // Send a message to notify the kernel that we're ready.\n",
              "      channel.send({})\n",
              "\n",
              "      for await (const message of channel.messages) {\n",
              "        // Send a message to notify the kernel that we're ready.\n",
              "        channel.send({})\n",
              "        if (message.buffers) {\n",
              "          for (const buffer of message.buffers) {\n",
              "            buffers.push(buffer);\n",
              "            downloaded += buffer.byteLength;\n",
              "            progress.value = downloaded;\n",
              "          }\n",
              "        }\n",
              "      }\n",
              "      const blob = new Blob(buffers, {type: 'application/binary'});\n",
              "      const a = document.createElement('a');\n",
              "      a.href = window.URL.createObjectURL(blob);\n",
              "      a.download = filename;\n",
              "      div.appendChild(a);\n",
              "      a.click();\n",
              "      div.remove();\n",
              "    }\n",
              "  "
            ]
          },
          "metadata": {}
        },
        {
          "output_type": "display_data",
          "data": {
            "text/plain": [
              "<IPython.core.display.Javascript object>"
            ],
            "application/javascript": [
              "download(\"download_fd39a3cf-5051-4dc9-a2b3-e9ac1d1ae0a0\", \"masks.zip\", 4060)"
            ]
          },
          "metadata": {}
        }
      ]
    }
  ]
}